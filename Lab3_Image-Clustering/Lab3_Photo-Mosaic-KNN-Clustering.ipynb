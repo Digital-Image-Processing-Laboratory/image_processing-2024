{
 "cells": [
  {
   "cell_type": "markdown",
   "metadata": {
    "id": "Mn_VeBhOLwqO"
   },
   "source": [
    "# **Lab3 : Photo Mosaic using KNN Clustering**"
   ]
  },
  {
   "cell_type": "code",
   "execution_count": null,
   "metadata": {
    "executionInfo": {
     "elapsed": 845,
     "status": "ok",
     "timestamp": 1647920384499,
     "user": {
      "displayName": "orachat chitsobhuk",
      "photoUrl": "https://lh3.googleusercontent.com/a/default-user=s64",
      "userId": "06343709387533100222"
     },
     "user_tz": -420
    },
    "id": "uWGpe41UL3EV"
   },
   "outputs": [],
   "source": [
    "import cv2\n",
    "import numpy as np\n",
    "import pandas as pd\n",
    "import matplotlib.pyplot as plt\n",
    "import glob\n",
    "\n",
    "from sklearn.cluster import KMeans\n",
    "\n",
    "from scipy import spatial\n",
    "\n",
    "from tqdm import tqdm\n",
    "import cv2\n",
    "import os \n",
    "import random"
   ]
  },
  {
   "cell_type": "markdown",
   "metadata": {
    "id": "DVgrZBbp8bAF"
   },
   "source": [
    "## Feature Preparation for tile images\n",
    "\n",
    "Locate the directory containing your tile images dataset. Ensure that the images in this directory have a wide range of colors to create a visually appealing mosaic. List all the image filenames in the directory to `fnames`. ***Select a subset of these filenames to use as tile images, with at least 10 images in total, and assign them to `fnames_mini`.***"
   ]
  },
  {
   "cell_type": "code",
   "execution_count": null,
   "metadata": {
    "colab": {
     "base_uri": "https://localhost:8080/"
    },
    "executionInfo": {
     "elapsed": 1944,
     "status": "ok",
     "timestamp": 1647920390016,
     "user": {
      "displayName": "orachat chitsobhuk",
      "photoUrl": "https://lh3.googleusercontent.com/a/default-user=s64",
      "userId": "06343709387533100222"
     },
     "user_tz": -420
    },
    "id": "HJnkZ7xQ8dNC",
    "outputId": "856545d2-2035-4839-b5e5-1b3f4cbf742e"
   },
   "outputs": [],
   "source": [
    "### START CODE HERE ###\n",
    "numImg = None\n",
    "\n",
    "fnames = None\n",
    "fnames_mini = None\n",
    "### END CODE HERE ###"
   ]
  },
  {
   "cell_type": "code",
   "execution_count": null,
   "metadata": {},
   "outputs": [],
   "source": [
    "assert len(fnames) > 0, \"No images found in the directory. Ensure the directory path is correct and contains images.\"\n",
    "assert len(fnames_mini) >= 10, \"Less than 10 images found in the subset. Ensure the directory has at least 10 images.\""
   ]
  },
  {
   "cell_type": "markdown",
   "metadata": {},
   "source": [
    "### Loading and Resizing Tile Images\n",
    "Define the size to which all tile images will be resized. This ensures consistency in the dimensions of the tile images. \n",
    "Iterate over the list of tile image filenames. Resize the image to the predefined `tile_size`. Append the processed image to the list of `tiles`.\n"
   ]
  },
  {
   "cell_type": "code",
   "execution_count": null,
   "metadata": {
    "colab": {
     "base_uri": "https://localhost:8080/"
    },
    "executionInfo": {
     "elapsed": 45139,
     "status": "ok",
     "timestamp": 1647920435151,
     "user": {
      "displayName": "orachat chitsobhuk",
      "photoUrl": "https://lh3.googleusercontent.com/a/default-user=s64",
      "userId": "06343709387533100222"
     },
     "user_tz": -420
    },
    "id": "0xUlhoSDoANn",
    "outputId": "5d44cbc3-12ec-4bcb-a08c-bb24957d1473"
   },
   "outputs": [],
   "source": [
    "### START CODE HERE ###\n",
    "tiles = []\n",
    "\n",
    "tile_size = None\n",
    "\n",
    "\n",
    "tiles.append(None)\n",
    "### END CODE HERE ###"
   ]
  },
  {
   "cell_type": "code",
   "execution_count": null,
   "metadata": {},
   "outputs": [],
   "source": [
    "assert len(tiles) == len(fnames_mini), \"The number of processed images does not match the number of filenames. Ensure all images are loaded and processed correctly.\""
   ]
  },
  {
   "cell_type": "markdown",
   "metadata": {},
   "source": [
    "Randomly select a few tile images from your dataset and display them using Matplotlib. This will help you visually inspect the tile images to ensure they are loaded and processed correctly.\n",
    "<details>\n",
    "\n",
    "<summary>\n",
    "<font size=\"3\" color=\"orange\">\n",
    "<b>Expected output</b>\n",
    "</font>\n",
    "</summary>\n",
    "\n",
    "- The output should resemble this, but not be identical\n",
    "\n",
    "![image.png](https://raw.githubusercontent.com/Digital-Image-Processing-Laboratory/image_processing-2024/master/Lab3_Image-Clustering/asset/1.png)\n",
    "</details>"
   ]
  },
  {
   "cell_type": "code",
   "execution_count": null,
   "metadata": {
    "colab": {
     "base_uri": "https://localhost:8080/",
     "height": 329
    },
    "executionInfo": {
     "elapsed": 1156,
     "status": "ok",
     "timestamp": 1647920436283,
     "user": {
      "displayName": "orachat chitsobhuk",
      "photoUrl": "https://lh3.googleusercontent.com/a/default-user=s64",
      "userId": "06343709387533100222"
     },
     "user_tz": -420
    },
    "id": "asIhkwXSTSNw",
    "outputId": "c6e14b4a-7101-4694-bc2f-39d0a3adb735"
   },
   "outputs": [],
   "source": [
    "### START CODE HERE ###\n",
    "\n",
    "\n",
    "\n",
    "\n",
    "\n",
    "\n",
    "\n",
    "### END CODE HERE ###"
   ]
  },
  {
   "cell_type": "markdown",
   "metadata": {},
   "source": [
    "Calculate the average color for each tile image and add the resulting mean color to the `colors` list."
   ]
  },
  {
   "cell_type": "code",
   "execution_count": null,
   "metadata": {
    "executionInfo": {
     "elapsed": 19,
     "status": "ok",
     "timestamp": 1647920436284,
     "user": {
      "displayName": "orachat chitsobhuk",
      "photoUrl": "https://lh3.googleusercontent.com/a/default-user=s64",
      "userId": "06343709387533100222"
     },
     "user_tz": -420
    },
    "id": "cuw3R8yt-UyE"
   },
   "outputs": [],
   "source": [
    "### START CODE HERE ###\n",
    "colors = []\n",
    "\n",
    "\n",
    "\n",
    "\n",
    "### END CODE HERE ###    "
   ]
  },
  {
   "cell_type": "markdown",
   "metadata": {},
   "source": [
    "Create a visual representation of the mean colors calculated for each tile image. \n",
    "<details>\n",
    "\n",
    "<summary>\n",
    "<font size=\"3\" color=\"orange\">\n",
    "<b>Expected output</b>\n",
    "</font>\n",
    "</summary>\n",
    "\n",
    "- The output should resemble this, but not be identical\n",
    "- Example output where `numImg = 10`\n",
    "\n",
    "![image.png](https://raw.githubusercontent.com/Digital-Image-Processing-Laboratory/image_processing-2024/master/Lab3_Image-Clustering/asset/2-1.png)\n",
    "\n",
    "- Example output where `numImg = 500`\n",
    "\n",
    "![image.png](https://raw.githubusercontent.com/Digital-Image-Processing-Laboratory/image_processing-2024/master/Lab3_Image-Clustering/asset/2-2.png)\n",
    "</details>"
   ]
  },
  {
   "cell_type": "code",
   "execution_count": null,
   "metadata": {
    "colab": {
     "base_uri": "https://localhost:8080/",
     "height": 393
    },
    "executionInfo": {
     "elapsed": 817,
     "status": "ok",
     "timestamp": 1647920437093,
     "user": {
      "displayName": "orachat chitsobhuk",
      "photoUrl": "https://lh3.googleusercontent.com/a/default-user=s64",
      "userId": "06343709387533100222"
     },
     "user_tz": -420
    },
    "id": "eAqOgERiawMg",
    "outputId": "a2cfbf27-b5fb-4221-c86e-a35d3fadeed7"
   },
   "outputs": [],
   "source": [
    "### START CODE HERE ###\n",
    "\n",
    "\n",
    "\n",
    "### END CODE HERE ###"
   ]
  },
  {
   "cell_type": "markdown",
   "metadata": {
    "id": "R0ZBtIA0tfFi"
   },
   "source": [
    "## Preparation for main image\n",
    "\n",
    "Load the main image.\n",
    "<details>\n",
    "\n",
    "<summary>\n",
    "<font size=\"3\" color=\"orange\">\n",
    "<b>Expected output</b>\n",
    "</font>\n",
    "</summary>\n",
    "\n",
    "- The output should resemble this, but not be identical\n",
    "\n",
    "![image.png](https://raw.githubusercontent.com/Digital-Image-Processing-Laboratory/image_processing-2024/master/Lab3_Image-Clustering/asset/3.png)\n",
    "\n",
    "</details>"
   ]
  },
  {
   "cell_type": "code",
   "execution_count": null,
   "metadata": {},
   "outputs": [],
   "source": [
    "### START CODE HERE ###\n",
    "og_img = None\n",
    "\n",
    "main_img = og_img.copy()\n",
    "plt.imshow(og_img)\n",
    "### END CODE HERE ###"
   ]
  },
  {
   "cell_type": "markdown",
   "metadata": {},
   "source": [
    "Compute the number of tiles required in the height and width dimensions of the image. This is based on the size of each tile and the dimensions of the original image. Define the dimensions for the resized image grid."
   ]
  },
  {
   "cell_type": "code",
   "execution_count": null,
   "metadata": {
    "colab": {
     "base_uri": "https://localhost:8080/"
    },
    "executionInfo": {
     "elapsed": 19,
     "status": "ok",
     "timestamp": 1647920437094,
     "user": {
      "displayName": "orachat chitsobhuk",
      "photoUrl": "https://lh3.googleusercontent.com/a/default-user=s64",
      "userId": "06343709387533100222"
     },
     "user_tz": -420
    },
    "id": "-su7xjwc_YML",
    "outputId": "6a572ef1-5b09-4f62-b555-7c52e367d23f"
   },
   "outputs": [],
   "source": [
    "### START CODE HERE ###\n",
    "height = None\n",
    "width = None\n",
    "dim = (height, width)\n",
    "\n",
    "### END CODE HERE ###"
   ]
  },
  {
   "cell_type": "markdown",
   "metadata": {},
   "source": [
    "Visualize the resized image to ensure proper alignment with the tile grid.\n",
    "<details>\n",
    "\n",
    "<summary>\n",
    "<font size=\"3\" color=\"orange\">\n",
    "<b>Expected output</b>\n",
    "</font>\n",
    "</summary>\n",
    "\n",
    "- The output should resemble this, but not be identical\n",
    "\n",
    "![image.png](https://raw.githubusercontent.com/Digital-Image-Processing-Laboratory/image_processing-2024/master/Lab3_Image-Clustering/asset/4.png)\n",
    "\n",
    "</details>"
   ]
  },
  {
   "cell_type": "code",
   "execution_count": null,
   "metadata": {
    "colab": {
     "base_uri": "https://localhost:8080/",
     "height": 391
    },
    "executionInfo": {
     "elapsed": 16,
     "status": "ok",
     "timestamp": 1647920437095,
     "user": {
      "displayName": "orachat chitsobhuk",
      "photoUrl": "https://lh3.googleusercontent.com/a/default-user=s64",
      "userId": "06343709387533100222"
     },
     "user_tz": -420
    },
    "id": "Un_zyDhuhVgw",
    "outputId": "aa1332bd-d109-4534-865d-5cb16d57c556"
   },
   "outputs": [],
   "source": [
    "### START CODE HERE ###\n",
    "resize_img = None\n",
    "### END CODE HERE ###"
   ]
  },
  {
   "cell_type": "markdown",
   "metadata": {
    "id": "QzuM6k1MONeo"
   },
   "source": [
    "Create a KDTree from the list of mean colors of the tile images using [`spatial.KDTree()`](https://docs.scipy.org/doc/scipy/reference/generated/scipy.spatial.KDTree.html). Use `closest_tiles` to store the index of the closest tile image for each pixel in the resized main image.\n",
    "***Try with difference value of k in `tree.query()`***"
   ]
  },
  {
   "cell_type": "code",
   "execution_count": null,
   "metadata": {
    "colab": {
     "base_uri": "https://localhost:8080/"
    },
    "executionInfo": {
     "elapsed": 13,
     "status": "ok",
     "timestamp": 1647920437095,
     "user": {
      "displayName": "orachat chitsobhuk",
      "photoUrl": "https://lh3.googleusercontent.com/a/default-user=s64",
      "userId": "06343709387533100222"
     },
     "user_tz": -420
    },
    "id": "2ZNheyALOQ0q",
    "outputId": "2d7108b5-745b-4fc6-fc44-33be9a835f90"
   },
   "outputs": [],
   "source": [
    "### START CODE HERE ###\n",
    "tree = spatial.KDTree(None)\n",
    "closest_tiles = None\n",
    "\n",
    "### END CODE HERE ###"
   ]
  },
  {
   "cell_type": "code",
   "execution_count": null,
   "metadata": {},
   "outputs": [],
   "source": [
    "assert closest_tiles.shape == (height, width), \"The shape of the closest_tiles array does not match the expected dimensions.\""
   ]
  },
  {
   "cell_type": "markdown",
   "metadata": {},
   "source": [
    "Visualizing `closest_tiles` Indices\n",
    "<details>\n",
    "\n",
    "<summary>\n",
    "<font size=\"3\" color=\"orange\">\n",
    "<b>Expected output</b>\n",
    "</font>\n",
    "</summary>\n",
    "\n",
    "- The output should resemble this, but not be identical\n",
    "\n",
    "![image.png](https://raw.githubusercontent.com/Digital-Image-Processing-Laboratory/image_processing-2024/master/Lab3_Image-Clustering/asset/5.png)\n",
    "\n",
    "</details>"
   ]
  },
  {
   "cell_type": "code",
   "execution_count": null,
   "metadata": {
    "colab": {
     "base_uri": "https://localhost:8080/",
     "height": 391
    },
    "executionInfo": {
     "elapsed": 12,
     "status": "ok",
     "timestamp": 1647920437096,
     "user": {
      "displayName": "orachat chitsobhuk",
      "photoUrl": "https://lh3.googleusercontent.com/a/default-user=s64",
      "userId": "06343709387533100222"
     },
     "user_tz": -420
    },
    "id": "Cjo7hypLUbmc",
    "outputId": "60da3078-a952-40c3-e62e-cbc7a2ced7f9"
   },
   "outputs": [],
   "source": [
    "### START CODE HERE ###\n",
    "\n",
    "### END CODE HERE ###"
   ]
  },
  {
   "cell_type": "markdown",
   "metadata": {},
   "source": [
    "Create a copy of the resized main image and replace each pixel region with the corresponding tile image based on the closest tile indices to assemble the final photo mosaic."
   ]
  },
  {
   "cell_type": "code",
   "execution_count": null,
   "metadata": {
    "colab": {
     "base_uri": "https://localhost:8080/"
    },
    "executionInfo": {
     "elapsed": 319,
     "status": "ok",
     "timestamp": 1647920461149,
     "user": {
      "displayName": "orachat chitsobhuk",
      "photoUrl": "https://lh3.googleusercontent.com/a/default-user=s64",
      "userId": "06343709387533100222"
     },
     "user_tz": -420
    },
    "id": "c_goBDAWOHsT",
    "outputId": "bc90ad14-2896-4bd3-b30a-5ea5493aaf28"
   },
   "outputs": [],
   "source": [
    "### START CODE HERE ###\n",
    "output = None\n",
    "\n",
    "\n",
    "### END CODE HERE ###"
   ]
  },
  {
   "cell_type": "markdown",
   "metadata": {},
   "source": [
    "Create a side-by-side comparison of four images: the original image, the resized main image, the final mosaic, and the KDTree tile index grid. This helps visualize the mosaic creation process.\n",
    "<details>\n",
    "\n",
    "<summary>\n",
    "<font size=\"3\" color=\"orange\">\n",
    "<b>Expected output</b>\n",
    "</font>\n",
    "</summary>\n",
    "\n",
    "- The output should resemble this, but not be identical\n",
    "\n",
    "![image.png](https://raw.githubusercontent.com/Digital-Image-Processing-Laboratory/image_processing-2024/master/Lab3_Image-Clustering/asset/6.png)\n",
    "\n",
    "</details>"
   ]
  },
  {
   "cell_type": "code",
   "execution_count": null,
   "metadata": {
    "colab": {
     "base_uri": "https://localhost:8080/",
     "height": 278
    },
    "executionInfo": {
     "elapsed": 2039,
     "status": "ok",
     "timestamp": 1647920464965,
     "user": {
      "displayName": "orachat chitsobhuk",
      "photoUrl": "https://lh3.googleusercontent.com/a/default-user=s64",
      "userId": "06343709387533100222"
     },
     "user_tz": -420
    },
    "id": "xZKQYMx_fdUH",
    "outputId": "72675d40-e4d5-4add-e310-e84c99e89fcf"
   },
   "outputs": [],
   "source": [
    "### START CODE HERE ###\n",
    "\n",
    "\n",
    "\n",
    "\n",
    "\n",
    "\n",
    "\n",
    "### END CODE HERE ###"
   ]
  },
  {
   "cell_type": "markdown",
   "metadata": {},
   "source": [
    "## Save the final photo mosaic \n",
    "Experiment with at least 3 different values of k and save the final photo.\n",
    "<details>\n",
    "\n",
    "<summary>\n",
    "<font size=\"3\" color=\"orange\">\n",
    "<b>Expected output</b>\n",
    "</font>\n",
    "</summary>\n",
    "\n",
    "- Saved output should resemble this, but not be identical\n",
    "\n",
    "![image.gif](https://raw.githubusercontent.com/Digital-Image-Processing-Laboratory/image_processing-2024/master/Lab3_Image-Clustering/asset/7.gif)\n",
    "\n",
    "- k = 1\n",
    "\n",
    "![image.png](https://raw.githubusercontent.com/Digital-Image-Processing-Laboratory/image_processing-2024/master/Lab3_Image-Clustering/asset/output-k1.png)\n",
    "\n",
    "- k = 10\n",
    "\n",
    "![image.png](https://raw.githubusercontent.com/Digital-Image-Processing-Laboratory/image_processing-2024/master/Lab3_Image-Clustering/asset/output-k10.png)\n",
    "\n",
    "- k = 50\n",
    "\n",
    "![image.png](https://raw.githubusercontent.com/Digital-Image-Processing-Laboratory/image_processing-2024/master/Lab3_Image-Clustering/asset/output-k50.png)\n",
    "</details>"
   ]
  },
  {
   "cell_type": "code",
   "execution_count": null,
   "metadata": {},
   "outputs": [],
   "source": [
    "### START CODE HERE ###\n",
    "\n",
    "\n",
    "\n",
    "\n",
    "### END CODE HERE ###"
   ]
  },
  {
   "cell_type": "markdown",
   "metadata": {},
   "source": [
    "---"
   ]
  },
  {
   "cell_type": "markdown",
   "metadata": {},
   "source": [
    "## **Question** \n",
    "1. How does changing the size of the tiles influence the overall quality and appearance of the mosaic? Conduct an analysis comparing two different tile sizes and discuss the trade-offs involved in terms of computational complexity and visual fidelity.\n",
    "2. Explain the effect of changing the value of K (number of nearest neighbors) on the mosaic image."
   ]
  },
  {
   "cell_type": "markdown",
   "metadata": {},
   "source": []
  }
 ],
 "metadata": {
  "accelerator": "GPU",
  "colab": {
   "authorship_tag": "ABX9TyMiYsoVXc5K/lSh5w7nK2/J",
   "name": "Activity #8.ipynb",
   "provenance": []
  },
  "kernelspec": {
   "display_name": "Python 3 (ipykernel)",
   "language": "python",
   "name": "python3"
  },
  "language_info": {
   "codemirror_mode": {
    "name": "ipython",
    "version": 3
   },
   "file_extension": ".py",
   "mimetype": "text/x-python",
   "name": "python",
   "nbconvert_exporter": "python",
   "pygments_lexer": "ipython3",
   "version": "3.10.14"
  }
 },
 "nbformat": 4,
 "nbformat_minor": 1
}
